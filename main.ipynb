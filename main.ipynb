{
 "cells": [
  {
   "cell_type": "code",
   "execution_count": 1,
   "metadata": {},
   "outputs": [
    {
     "name": "stdout",
     "output_type": "stream",
     "text": [
      "importing Jupyter notebook from filter_results.ipynb\n",
      "importing Jupyter notebook from scrape_page.ipynb\n",
      "importing Jupyter notebook from generate_metrics.ipynb\n",
      "importing Jupyter notebook from build_csv.ipynb\n",
      "Please Enter What You Would Like to Search: red vans\n",
      "\n",
      "Would You Like to Filter Your Results\n",
      "Enter 0 For Yes And 1 For No\n",
      "\n",
      "Response: 1\n",
      "\n",
      "The Mean Price is $42.87\n",
      "The Mean Amount of Ratings is 19969\n",
      "The Mean Positive Feedback Percentage is 95.89%\n"
     ]
    },
    {
     "data": {
      "image/png": "[encoded data removed]",
      "text/plain": [
       "<Figure size 432x288 with 1 Axes>"
      ]
     },
     "metadata": {
      "needs_background": "light"
     },
     "output_type": "display_data"
    },
    {
     "name": "stdout",
     "output_type": "stream",
     "text": [
      "https://www.ebay.com/itm/Vans-New-Authentic-Era-Classic-Sneakers-Unisex-Canvas-Shoes/152926574649?var=452690357610&hash=item239b225839:g:AsMAAOSw5JBal0sY:sc:USPSPriorityMailPaddedFlatRateEnvelope!91709!US!-1\n"
     ]
    }
   ],
   "source": [
    "#---------------- import libraries ------------------------\n",
    "\n",
    "import csv\n",
    "\n",
    "#---------------- import other modules --------------------\n",
    "\n",
    "import import_ipynb\n",
    "import filter_results as fr\n",
    "import scrape_page as sp\n",
    "import generate_metrics as gm\n",
    "import build_csv as bc\n",
    "   \n",
    "## ------------------ MAIN -----------------------------------\n",
    "\n",
    "def main():\n",
    "    open('things.csv', 'w').close()\n",
    "    searchword = fr.get_input()\n",
    "    url = sp.format_url(searchword)\n",
    "    \n",
    "    #build URL with filtered results by user imput\n",
    "    filter_response = fr.prompt_filter()\n",
    "    if(filter_response == 0):\n",
    "        url = url + fr.filter_price()\n",
    "        url = url + fr.filter_buying_format()\n",
    "\n",
    "    products = sp.get_page_urls(sp.get_page(url))\n",
    "    bc.label_csv()\n",
    "    \n",
    "    # ----------- get each product ---------------\n",
    "    for i in products[0:50]:\n",
    "        data = sp.group_data(sp.get_page(i), i)\n",
    "        bc.get_csv(data, i)\n",
    "        \n",
    "    #--------------- checks -----------------\n",
    "    bc.check_titles(searchword)\n",
    "    bc.check_price()\n",
    "    \n",
    "    #----------- create metrics ----------------\n",
    "    gm.frame_data(searchword)\n",
    "    gm.create_histogram('PRICE')\n",
    "    \n",
    "    best_item_index = gm.find_best_item()\n",
    "    print(products[best_item_index])\n",
    "    \n",
    "if __name__ == '__main__':\n",
    "    main()\n",
    "    "
   ]
  },
  {
   "cell_type": "code",
   "execution_count": null,
   "metadata": {},
   "outputs": [],
   "source": [
    "\n"
   ]
  },
  {
   "cell_type": "code",
   "execution_count": null,
   "metadata": {},
   "outputs": [],
   "source": []
  }
 ],
 "metadata": {
  "kernelspec": {
   "display_name": "Python 3",
   "language": "python",
   "name": "python3"
  },
  "language_info": {
   "codemirror_mode": {
    "name": "ipython",
    "version": 3
   },
   "file_extension": ".py",
   "mimetype": "text/x-python",
   "name": "python",
   "nbconvert_exporter": "python",
   "pygments_lexer": "ipython3",
   "version": "3.7.4"
  }
 },
 "nbformat": 4,
 "nbformat_minor": 2
}
